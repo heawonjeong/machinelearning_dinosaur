{
 "cells": [
  {
   "attachments": {},
   "cell_type": "markdown",
   "metadata": {},
   "source": [
    "## 경사하강을 이용한 행렬 분해\n",
    "P와 Q 행렬로 계산된 예측 행렬 R 값이 실제 R 행렬값과 가장 최소의 오류를 가질 수 있도록 반복적인 비용함수 최적화를 통해 P와 Q를 유추해내는 것입니다. "
   ]
  },
  {
   "attachments": {},
   "cell_type": "markdown",
   "metadata": {},
   "source": [
    "1. P와 Q를 임의의 값을 가진 행렬로 설정합니다.\n",
    "2. P와 Q.T값을 곱해 예측 R 행렬을 계산하고 예측 R 행렬과 실제 R 행렬에 해당하는 오류값을 계산합니다.\n",
    "3. 이 오류값을 최소화할 수 있도록 P와 Q 행렬을 적절한 값으로 각각 업데이트 합니다.\n",
    "4. 만족할만한 오류값을 가질 때까지 2, 3번 작업을 반복하면서 P와 Q 값을 업데이트해 근사화합니다."
   ]
  },
  {
   "cell_type": "code",
   "execution_count": 1,
   "metadata": {},
   "outputs": [],
   "source": [
    "import numpy as np\n",
    "\n",
    "# 원본행렬 R 생성, 분해행렬 P와 Q 초기화, 잠재요인 차원 K는 3 설정\n",
    "R = np.array([[4, np.NaN, np.NaN, 2, np.NaN],\n",
    "              [np.NaN, 5, np.NaN, 3, 1],\n",
    "              [np.NaN, np.NaN, 3, 4, 4],\n",
    "              [5, 2, 1, 2, np.NaN]])\n",
    "num_users, num_items = R.shape\n",
    "K = 3\n",
    "\n",
    "# P와 Q 매트릭스의 크기를 지정하고 정규분포를 가진 random 한 값으로 입력합니다.\n",
    "np.random.seed(1)\n",
    "P = np.random.normal(scale=1./K, size=(num_users, K))\n",
    "Q = np.random.normal(scale=1./K, size=(num_items, K))"
   ]
  },
  {
   "cell_type": "code",
   "execution_count": 5,
   "metadata": {},
   "outputs": [],
   "source": [
    "from sklearn.metrics import mean_squared_error\n",
    "\n",
    "def get_rmse(R, P, Q, non_zeros):\n",
    "    error = 0\n",
    "    # 두개의 분해된 행렬 P, Q.T의 내적으로 예측 행렬 R행렬 생성\n",
    "    full_pred_matrix = np.dot(P, Q.T)\n",
    "\n",
    "    # 실제 R 행렬에서 널이 아닌 값의 위치 인덱스 추출하여 실제 R 행렬과 예측 행렬의 RMSE 추출\n",
    "    x_non_zero_ind = [non_zero[0] for non_zero in non_zeros]\n",
    "    y_non_zero_ind = [non_zero[1] for non_zero in non_zeros]\n",
    "    R_non_zeros = R[x_non_zero_ind, y_non_zero_ind]\n",
    "    full_pred_matrix_non_zeros = full_pred_matrix[x_non_zero_ind, y_non_zero_ind]\n",
    "\n",
    "    mse = mean_squared_error(R_non_zeros, full_pred_matrix_non_zeros)\n",
    "    rmse = np.sqrt(mse)\n",
    "\n",
    "    return rmse"
   ]
  },
  {
   "cell_type": "code",
   "execution_count": 6,
   "metadata": {},
   "outputs": [
    {
     "name": "stdout",
     "output_type": "stream",
     "text": [
      "### iteration step :  0  rmse :  3.2142352850266604\n",
      "### iteration step :  50  rmse :  0.47024902717741013\n",
      "### iteration step :  100  rmse :  0.15376535936658764\n",
      "### iteration step :  150  rmse :  0.07361687046634227\n",
      "### iteration step :  200  rmse :  0.042854422724033434\n",
      "### iteration step :  250  rmse :  0.02906178882983784\n",
      "### iteration step :  300  rmse :  0.02253267267313507\n",
      "### iteration step :  350  rmse :  0.019452104360723494\n",
      "### iteration step :  400  rmse :  0.018003062614111706\n",
      "### iteration step :  450  rmse :  0.01731014561278133\n",
      "### iteration step :  500  rmse :  0.016968868634676948\n",
      "### iteration step :  550  rmse :  0.016794291226021912\n",
      "### iteration step :  600  rmse :  0.01669990557944416\n",
      "### iteration step :  650  rmse :  0.016643834424762662\n",
      "### iteration step :  700  rmse :  0.016605230293015815\n",
      "### iteration step :  750  rmse :  0.01657359666938704\n",
      "### iteration step :  800  rmse :  0.016543716472882376\n",
      "### iteration step :  850  rmse :  0.016513124797746925\n",
      "### iteration step :  900  rmse :  0.016480799675904743\n",
      "### iteration step :  950  rmse :  0.016446465555087615\n"
     ]
    }
   ],
   "source": [
    "# R > 0 인 행 위치, 열위치, 값을 non_zero 리스트에 저장\n",
    "non_zeros = [(i, j, R[i, j]) for i in range(num_users) for j in range(num_items) if R[i, j] > 0]\n",
    "\n",
    "steps = 1000\n",
    "learning_rate = 0.01\n",
    "r_lambda=0.01\n",
    "\n",
    "# SGD 기법으로 P와 Q 매트릭스를 계속 업데이트\n",
    "for step in range(steps):\n",
    "    for i, j, r in non_zeros:\n",
    "        # 실제값과 예측값의 차이인 오류 값 구함\n",
    "        eij = r - np.dot(P[i, :], Q[j, :].T)\n",
    "        # Regularization을 반영한 SGD 업데이트 공식 적용\n",
    "        P[i,:] = P[i,:] + learning_rate*(eij * Q[j, :] - r_lambda*P[i, :])\n",
    "        Q[j,:] = Q[j,:] + learning_rate*(eij * P[i, :] - r_lambda*Q[j,:])\n",
    "\n",
    "    rmse = get_rmse(R, P, Q, non_zeros)\n",
    "    if (step % 50) == 0:\n",
    "        print(\"### iteration step : \", step, \" rmse : \", rmse)"
   ]
  },
  {
   "cell_type": "code",
   "execution_count": 7,
   "metadata": {},
   "outputs": [
    {
     "name": "stdout",
     "output_type": "stream",
     "text": [
      "예측행렬:\n",
      " [[3.991 0.897 1.306 2.002 1.663]\n",
      " [6.695 4.978 0.978 2.981 1.003]\n",
      " [6.677 0.391 2.987 3.977 3.986]\n",
      " [4.968 2.005 1.006 2.017 1.141]]\n"
     ]
    }
   ],
   "source": [
    "pred_matrix = np.dot(P, Q.T)\n",
    "print('예측행렬:\\n', np.round(pred_matrix, 3))"
   ]
  },
  {
   "cell_type": "code",
   "execution_count": null,
   "metadata": {},
   "outputs": [],
   "source": []
  }
 ],
 "metadata": {
  "kernelspec": {
   "display_name": "kaggle",
   "language": "python",
   "name": "python3"
  },
  "language_info": {
   "codemirror_mode": {
    "name": "ipython",
    "version": 3
   },
   "file_extension": ".py",
   "mimetype": "text/x-python",
   "name": "python",
   "nbconvert_exporter": "python",
   "pygments_lexer": "ipython3",
   "version": "3.8.16"
  },
  "orig_nbformat": 4
 },
 "nbformat": 4,
 "nbformat_minor": 2
}
